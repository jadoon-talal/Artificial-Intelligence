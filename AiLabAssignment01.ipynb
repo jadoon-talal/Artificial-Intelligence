{
  "nbformat": 4,
  "nbformat_minor": 0,
  "metadata": {
    "colab": {
      "provenance": [],
      "authorship_tag": "ABX9TyN/ro+uGu6w0YJl/8JhmUud",
      "include_colab_link": true
    },
    "kernelspec": {
      "name": "python3",
      "display_name": "Python 3"
    },
    "language_info": {
      "name": "python"
    }
  },
  "cells": [
    {
      "cell_type": "markdown",
      "metadata": {
        "id": "view-in-github",
        "colab_type": "text"
      },
      "source": [
        "<a href=\"https://colab.research.google.com/github/jadoon-talal/Artificial-Intelligence/blob/main/AiLabAssignment01.ipynb\" target=\"_parent\"><img src=\"https://colab.research.google.com/assets/colab-badge.svg\" alt=\"Open In Colab\"/></a>"
      ]
    },
    {
      "cell_type": "markdown",
      "source": [
        "**TASK 02**"
      ],
      "metadata": {
        "id": "qIMQwVITDEk3"
      }
    },
    {
      "cell_type": "code",
      "execution_count": 4,
      "metadata": {
        "colab": {
          "base_uri": "https://localhost:8080/",
          "height": 623
        },
        "id": "kTpZRnmS_eoI",
        "outputId": "ad07e651-8152-425e-bf3a-417a8fecb21a"
      },
      "outputs": [
        {
          "output_type": "stream",
          "name": "stdout",
          "text": [
            "   Tree Size  BFS Time  DFS Time  BFS Steps  DFS Steps\n",
            "0       1000  0.000375  0.000274        781        544\n",
            "1      40000  0.024896  0.008070      39781      14034\n",
            "2      80000  0.051756  0.016888      79781      28498\n",
            "3     200000  0.156594  0.096883     199781     137429\n",
            "4    1000000  0.805864  0.870659     999781     950997\n"
          ]
        },
        {
          "output_type": "display_data",
          "data": {
            "text/plain": [
              "<Figure size 640x480 with 1 Axes>"
            ],
            "image/png": "[encoded data removed]"
          },
          "metadata": {}
        }
      ],
      "source": [
        "import random\n",
        "import time\n",
        "import pandas as pd\n",
        "import matplotlib.pyplot as plt\n",
        "from collections import deque\n",
        "\n",
        "def generate_unique_numbers(size):\n",
        "    population = range(2 * size)  # Ensure uniqueness\n",
        "    return random.sample(population, size)\n",
        "\n",
        "def bfs_search(tree_array, goal):\n",
        "    queue = deque([0])\n",
        "    visited_nodes = 0\n",
        "    while queue:\n",
        "        idx = queue.popleft()\n",
        "        visited_nodes += 1\n",
        "        if tree_array[idx] == goal:\n",
        "            return visited_nodes\n",
        "        left = 2 * idx + 1\n",
        "        if left < len(tree_array):\n",
        "            queue.append(left)\n",
        "        right = 2 * idx + 2\n",
        "        if right < len(tree_array):\n",
        "            queue.append(right)\n",
        "    return visited_nodes\n",
        "\n",
        "def dfs_search(tree_array, goal):\n",
        "    stack = [0]\n",
        "    visited_nodes = 0\n",
        "    while stack:\n",
        "        idx = stack.pop()\n",
        "        visited_nodes += 1\n",
        "        if tree_array[idx] == goal:\n",
        "            return visited_nodes\n",
        "        right = 2 * idx + 2\n",
        "        left = 2 * idx + 1\n",
        "        if right < len(tree_array):\n",
        "            stack.append(right)\n",
        "        if left < len(tree_array):\n",
        "            stack.append(left)\n",
        "    return visited_nodes\n",
        "\n",
        "# Tree sizes to test\n",
        "sizes = [1000, 40000, 80000, 200000, 1000000]\n",
        "results = []\n",
        "\n",
        "for size in sizes:\n",
        "    data = generate_unique_numbers(size)\n",
        "    goal = data[-220]  # Or use random: goal = random.choice(data)\n",
        "\n",
        "    # BFS\n",
        "    start = time.perf_counter()\n",
        "    bfs_steps = bfs_search(data, goal)\n",
        "    bfs_time = time.perf_counter() - start\n",
        "\n",
        "    # DFS\n",
        "    start = time.perf_counter()\n",
        "    dfs_steps = dfs_search(data, goal)\n",
        "    dfs_time = time.perf_counter() - start\n",
        "\n",
        "    results.append({\n",
        "        'Tree Size': size,\n",
        "        'BFS Time': bfs_time,\n",
        "        'DFS Time': dfs_time,\n",
        "        'BFS Steps': bfs_steps,\n",
        "        'DFS Steps': dfs_steps\n",
        "    })\n",
        "\n",
        "df = pd.DataFrame(results)\n",
        "print(df)\n",
        "\n",
        "# Plot results\n",
        "df.plot(x='Tree Size', y=['DFS Time', 'BFS Time'], kind='bar')\n",
        "plt.title('BFS vs DFS Execution Time')\n",
        "plt.ylabel('Time (seconds)')\n",
        "plt.show()"
      ]
    },
    {
      "cell_type": "markdown",
      "source": [
        "**TASK 03**"
      ],
      "metadata": {
        "id": "v-Zm3CZxFvBG"
      }
    },
    {
      "cell_type": "markdown",
      "source": [
        "**BFS**"
      ],
      "metadata": {
        "id": "X6ru6nqLGdye"
      }
    },
    {
      "cell_type": "code",
      "source": [
        "\n",
        "from collections import deque\n",
        "\n",
        "def bfs_shortest_path(graph, start, goal):\n",
        "    queue = deque([[start]])  # Queue of paths\n",
        "    visited = set()  # To avoid revisiting cities\n",
        "\n",
        "    while queue:\n",
        "        path = queue.popleft()  # Get the first path from queue\n",
        "        city = path[-1]         # Get the last city from the path\n",
        "\n",
        "        if city == goal:\n",
        "            return path  # Found the destination\n",
        "\n",
        "        if city not in visited:\n",
        "            visited.add(city)\n",
        "            for neighbor in graph[city]:\n",
        "                new_path = list(path)\n",
        "                new_path.append(neighbor)\n",
        "                queue.append(new_path)\n",
        "\n",
        "    return None  # No path found\n",
        "\n",
        "# Call the function\n",
        "city_graph = {\n",
        "    'Islamabad': ['Rawalpindi', 'Lahore', 'Peshawar'],\n",
        "    'Rawalpindi': ['Islamabad', 'Peshawar', 'Quetta'],\n",
        "    'Peshawar': ['Islamabad', 'Rawalpindi', 'Quetta'],\n",
        "    'Lahore': ['Islamabad', 'Multan', 'Quetta'],\n",
        "    'Multan': ['Lahore', 'Karachi', 'Quetta'],\n",
        "    'Quetta': ['Rawalpindi', 'Peshawar', 'Multan', 'Karachi'],\n",
        "    'Karachi': ['Multan', 'Quetta']\n",
        "}\n",
        "\n",
        "path = bfs_shortest_path(city_graph, 'Islamabad', 'Karachi')\n",
        "print(\"Shortest path from Islamabad to Karachi:\")\n",
        "print(\" -> \".join(path))\n",
        "\n",
        "\n"
      ],
      "metadata": {
        "colab": {
          "base_uri": "https://localhost:8080/"
        },
        "id": "qQSlM_6bFyAu",
        "outputId": "f2945cfd-aa25-43d4-8813-8b6ba6083808"
      },
      "execution_count": 9,
      "outputs": [
        {
          "output_type": "stream",
          "name": "stdout",
          "text": [
            "Shortest path from Islamabad to Karachi:\n",
            "Islamabad -> Rawalpindi -> Quetta -> Karachi\n"
          ]
        }
      ]
    }
  ]
}