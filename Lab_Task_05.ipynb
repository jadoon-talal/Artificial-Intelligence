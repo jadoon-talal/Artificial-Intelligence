{
  "nbformat": 4,
  "nbformat_minor": 0,
  "metadata": {
    "colab": {
      "provenance": [],
      "collapsed_sections": [
        "WyHKK5HPDzjM",
        "D5XoHCv8Ep9k",
        "lhPhBgAFGTFx"
      ],
      "authorship_tag": "ABX9TyMjzAey69S3tTjCKDELwxr2",
      "include_colab_link": true
    },
    "kernelspec": {
      "name": "python3",
      "display_name": "Python 3"
    },
    "language_info": {
      "name": "python"
    }
  },
  "cells": [
    {
      "cell_type": "markdown",
      "metadata": {
        "id": "view-in-github",
        "colab_type": "text"
      },
      "source": [
        "<a href=\"https://colab.research.google.com/github/jadoon-talal/Artificial-Intelligence/blob/main/Lab_Task_05.ipynb\" target=\"_parent\"><img src=\"https://colab.research.google.com/assets/colab-badge.svg\" alt=\"Open In Colab\"/></a>"
      ]
    },
    {
      "cell_type": "markdown",
      "source": [
        "# **Task 01**"
      ],
      "metadata": {
        "id": "WyHKK5HPDzjM"
      }
    },
    {
      "cell_type": "markdown",
      "source": [
        "## **Case Study:**\n",
        "**Social Network Friend Suggestion using BFS**\n",
        "\n",
        "---\n",
        "\n",
        "\n",
        "\n",
        "Imagine you're building a social network feature that suggests \"People You May Know\" - friends\n",
        "of friends who you're not already connected with. We'll use BFS to find these potential connections\n",
        "up to 2 levels deep in the friendship graph."
      ],
      "metadata": {
        "id": "ewQAJ-80D9Jy"
      }
    },
    {
      "cell_type": "code",
      "execution_count": 1,
      "metadata": {
        "colab": {
          "base_uri": "https://localhost:8080/"
        },
        "id": "Czm4dZM-DAHu",
        "outputId": "eff0f6af-7c49-4594-d554-af80c756059e"
      },
      "outputs": [
        {
          "output_type": "stream",
          "name": "stdout",
          "text": [
            "Suggested friends for Ahmed: {'Imran', 'Fahad', 'Hassan'}\n"
          ]
        }
      ],
      "source": [
        "from collections import deque, defaultdict\n",
        "\n",
        "def suggest_friends(graph, user):\n",
        "    visited = set()\n",
        "    queue = deque()\n",
        "    level = {user: 0}\n",
        "    suggestions = set()\n",
        "\n",
        "    visited.add(user)\n",
        "    queue.append(user)\n",
        "\n",
        "    while queue:\n",
        "        current = queue.popleft()\n",
        "        curr_level = level[current]\n",
        "\n",
        "        if curr_level >= 2:\n",
        "            continue  # Only go up to level 2\n",
        "\n",
        "        for neighbor in graph[current]:\n",
        "            if neighbor not in visited:\n",
        "                visited.add(neighbor)\n",
        "                level[neighbor] = curr_level + 1\n",
        "                queue.append(neighbor)\n",
        "\n",
        "                if level[neighbor] == 2 and neighbor not in graph[user]:\n",
        "                    suggestions.add(neighbor)\n",
        "\n",
        "    return suggestions\n",
        "\n",
        "#Example Usage\n",
        "# Define the social network graph (Adjacency List)\n",
        "social_graph = {\n",
        "    'Ahmed': ['Bilal', 'Danish'],\n",
        "    'Bilal': ['Ahmed', 'Fahad', 'Hassan'],\n",
        "    'Danish': ['Ahmed', 'Imran'],\n",
        "    'Fahad': ['Bilal'],\n",
        "    'Hassan': ['Bilal'],\n",
        "    'Imran': ['Danish', 'Junaid'],\n",
        "    'Junaid': ['Imran']\n",
        "}\n",
        "\n",
        "user = 'Ahmed'\n",
        "suggested = suggest_friends(social_graph, user)\n",
        "\n",
        "print(f\"Suggested friends for {user}: {suggested}\")\n"
      ]
    },
    {
      "cell_type": "markdown",
      "source": [
        "# **Task 02**"
      ],
      "metadata": {
        "id": "D5XoHCv8Ep9k"
      }
    },
    {
      "cell_type": "markdown",
      "source": [
        "**a. Implement Depth-First Search (DFS) to find paths between various cities in Pakistan.**\n"
      ],
      "metadata": {
        "id": "41k2AhX3E47A"
      }
    },
    {
      "cell_type": "code",
      "source": [
        "def dfs_path(graph, start, goal, path=None, visited=None):\n",
        "    if path is None:\n",
        "        path = []\n",
        "    if visited is None:\n",
        "        visited = set()\n",
        "\n",
        "    path.append(start)\n",
        "    visited.add(start)\n",
        "\n",
        "    if start == goal:\n",
        "        return path\n",
        "\n",
        "    for neighbor in graph[start]:\n",
        "        if neighbor not in visited:\n",
        "            result = dfs_path(graph, neighbor, goal, path.copy(), visited.copy())\n",
        "            if result is not None:\n",
        "                return result\n",
        "\n",
        "    return None\n",
        "\n",
        "#Example Data-Set\n",
        "pakistan_map = {\n",
        "    'Lahore': ['Gujranwala', 'Faisalabad'],\n",
        "    'Gujranwala': ['Lahore', 'Islamabad'],\n",
        "    'Faisalabad': ['Lahore', 'Multan'],\n",
        "    'Islamabad': ['Gujranwala', 'Peshawar'],\n",
        "    'Peshawar': ['Islamabad'],\n",
        "    'Multan': ['Faisalabad', 'Quetta'],\n",
        "    'Quetta': ['Multan', 'Karachi'],\n",
        "    'Karachi': ['Quetta']\n",
        "}\n",
        "\n",
        "#Example Usage\n",
        "start_city = 'Lahore'\n",
        "goal_city = 'Karachi'\n",
        "\n",
        "path = dfs_path(pakistan_map, start_city, goal_city)\n",
        "\n",
        "if path:\n",
        "    print(f\"Path from {start_city} to {goal_city}: {' -> '.join(path)}\")\n",
        "else:\n",
        "    print(f\"No path found from {start_city} to {goal_city}\")\n"
      ],
      "metadata": {
        "colab": {
          "base_uri": "https://localhost:8080/"
        },
        "id": "pltuDFk5E5TR",
        "outputId": "867187f7-a413-4b9d-cc51-7b60b9361db4"
      },
      "execution_count": 4,
      "outputs": [
        {
          "output_type": "stream",
          "name": "stdout",
          "text": [
            "Path from Lahore to Karachi: Lahore -> Faisalabad -> Multan -> Quetta -> Karachi\n"
          ]
        }
      ]
    },
    {
      "cell_type": "markdown",
      "source": [
        "**b. Python program to print DFS traversal from a given graph.**\n",
        "![Screenshot 2025-03-01 052438.png](data:image/png;base64,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)\n"
      ],
      "metadata": {
        "id": "HUVg_JC5FpIK"
      }
    },
    {
      "cell_type": "code",
      "source": [
        "class Node:\n",
        "    def __init__(self, value):\n",
        "        self.value = value\n",
        "        self.left = None\n",
        "        self.right = None\n",
        "\n",
        "# Construct the binary tree from the image\n",
        "root = Node(3)\n",
        "root.left = Node(1)\n",
        "root.right = Node(5)\n",
        "root.left.left = Node(0)\n",
        "root.left.right = Node(2)\n",
        "root.right.left = Node(4)\n",
        "root.right.right = Node(6)\n",
        "\n",
        "# DFS (Pre-order Traversal)\n",
        "def dfs_preorder(node):\n",
        "    if node is None:\n",
        "        return\n",
        "    print(node.value, end=' ')\n",
        "    dfs_preorder(node.left)\n",
        "    dfs_preorder(node.right)\n",
        "\n",
        "# Run DFS traversal\n",
        "print(\"DFS Pre-order Traversal:\")\n",
        "dfs_preorder(root)\n"
      ],
      "metadata": {
        "colab": {
          "base_uri": "https://localhost:8080/"
        },
        "id": "7_Jd8HkTGIc-",
        "outputId": "08e96e7c-c539-4dfa-dd3b-91eff227c8b8"
      },
      "execution_count": 5,
      "outputs": [
        {
          "output_type": "stream",
          "name": "stdout",
          "text": [
            "DFS Pre-order Traversal:\n",
            "3 1 0 2 5 4 6 "
          ]
        }
      ]
    },
    {
      "cell_type": "markdown",
      "source": [],
      "metadata": {
        "id": "GWlZ5wfKGSnD"
      }
    },
    {
      "cell_type": "markdown",
      "source": [
        "# **Task 03**"
      ],
      "metadata": {
        "id": "lhPhBgAFGTFx"
      }
    },
    {
      "cell_type": "markdown",
      "source": [
        "**Write any case study for the A* Algorithm in AI also implement that case study in python\n",
        "language.**\n"
      ],
      "metadata": {
        "id": "63jC52rHGTFy"
      }
    },
    {
      "cell_type": "markdown",
      "source": [
        "## **Algorithm for Finding the Shortest Route between Pakistani Cities**"
      ],
      "metadata": {
        "id": "nbya-I21GwJE"
      }
    },
    {
      "cell_type": "markdown",
      "source": [
        "**Problem Statement**\n",
        "\n",
        "Imagine you are building a Pakistani route planner (like Google Maps) that helps users find the shortest path between two cities, using A*. The algorithm uses a heuristic (like straight-line distance) to improve the search."
      ],
      "metadata": {
        "id": "twrSaqoxG5t0"
      }
    },
    {
      "cell_type": "markdown",
      "source": [
        "###**A* Algorithm in AI**\n",
        "A* is a popular pathfinding and graph traversal algorithm. It combines:\n",
        "\n",
        "*   g(n): Actual cost to reach node n\n",
        "*   h(n): Heuristic estimated cost from node n to goal\n",
        "\n",
        "*   f(n) = g(n) + h(n)\n",
        "\n",
        "\n",
        "\n"
      ],
      "metadata": {
        "id": "5vCcbvt3HG7s"
      }
    },
    {
      "cell_type": "markdown",
      "source": [
        "### **Python Implementation**"
      ],
      "metadata": {
        "id": "wO9rjRmIHsCT"
      }
    },
    {
      "cell_type": "code",
      "source": [
        "import heapq\n",
        "\n",
        "def a_star(graph, heuristics, start, goal):\n",
        "    open_list = []\n",
        "    heapq.heappush(open_list, (0 + heuristics[start], 0, start, [start]))  # (f, g, node, path)\n",
        "    visited = set()\n",
        "\n",
        "    while open_list:\n",
        "        f, g, current, path = heapq.heappop(open_list)\n",
        "\n",
        "        if current == goal:\n",
        "            return path, g\n",
        "\n",
        "        visited.add(current)\n",
        "\n",
        "        for neighbor, cost in graph[current]:\n",
        "            if neighbor not in visited:\n",
        "                new_g = g + cost\n",
        "                new_f = new_g + heuristics[neighbor]\n",
        "                heapq.heappush(open_list, (new_f, new_g, neighbor, path + [neighbor]))\n",
        "\n",
        "    return None, float('inf')\n",
        "\n",
        "#Sample Map of Pakistani Cities\n",
        "\n",
        "    # Graph structure: city -> [(neighbor, distance)]\n",
        "graph = {\n",
        "    'Lahore': [('Gujranwala', 70), ('Faisalabad', 120)],\n",
        "    'Gujranwala': [('Lahore', 70), ('Islamabad', 200)],\n",
        "    'Faisalabad': [('Lahore', 120), ('Multan', 250)],\n",
        "    'Islamabad': [('Gujranwala', 200), ('Peshawar', 180)],\n",
        "    'Multan': [('Faisalabad', 250), ('Quetta', 600)],\n",
        "    'Quetta': [('Multan', 600), ('Karachi', 700)],\n",
        "    'Karachi': [('Quetta', 700)],\n",
        "    'Peshawar': [('Islamabad', 180)]\n",
        "}\n",
        "\n",
        "# Heuristic values: estimated distance to Karachi (in km)\n",
        "heuristics = {\n",
        "    'Lahore': 1200,\n",
        "    'Gujranwala': 1150,\n",
        "    'Faisalabad': 1000,\n",
        "    'Islamabad': 1100,\n",
        "    'Peshawar': 1300,\n",
        "    'Multan': 850,\n",
        "    'Quetta': 700,\n",
        "    'Karachi': 0\n",
        "}\n",
        "\n",
        "#Run the A* Algorithm\n",
        "\n",
        "start_city = 'Lahore'\n",
        "goal_city = 'Karachi'\n",
        "\n",
        "path, total_cost = a_star(graph, heuristics, start_city, goal_city)\n",
        "\n",
        "if path:\n",
        "    print(f\"Shortest path from {start_city} to {goal_city}: {' -> '.join(path)}\")\n",
        "    print(f\"Total cost: {total_cost} km\")\n",
        "else:\n",
        "    print(\"No path found.\")\n",
        "\n"
      ],
      "metadata": {
        "colab": {
          "base_uri": "https://localhost:8080/"
        },
        "id": "7WgYQKXEHxxz",
        "outputId": "6a313429-e368-4bfa-e3d5-58af14cc1007"
      },
      "execution_count": 7,
      "outputs": [
        {
          "output_type": "stream",
          "name": "stdout",
          "text": [
            "Shortest path from Lahore to Karachi: Lahore -> Faisalabad -> Multan -> Quetta -> Karachi\n",
            "Total cost: 1670 km\n"
          ]
        }
      ]
    }
  ]
}